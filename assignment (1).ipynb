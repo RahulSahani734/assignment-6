{
 "cells": [
  {
   "cell_type": "markdown",
   "id": "eea16a89-68d3-42f0-807c-a802d7f5b415",
   "metadata": {},
   "source": [
    "ANSWER 1"
   ]
  },
  {
   "cell_type": "code",
   "execution_count": null,
   "id": "f35bbda9-796d-410a-910f-8f1371a8b4bf",
   "metadata": {},
   "outputs": [],
   "source": [
    "The Exception class serves as the base class for all built-in and user-defined exceptions. When creating a custom\n",
    "exception, it is important to inherit from the Exception class or one of its subclasses for several reasons:"
   ]
  },
  {
   "cell_type": "code",
   "execution_count": null,
   "id": "3d916d9a-6075-49db-90ed-8a4d934f95f6",
   "metadata": {},
   "outputs": [],
   "source": [
    "Consistency and Compatibility: \n",
    "    Inheriting from the Exception class ensures that your custom exception follows the same structure and behavior\n",
    "    as other built-in exceptions in Python. It allows your custom exception to be compatible with existing\n",
    "    exception handling mechanisms and conventions."
   ]
  },
  {
   "cell_type": "code",
   "execution_count": null,
   "id": "2cb0d909-b5d3-47a7-87da-d363ae1aa37c",
   "metadata": {},
   "outputs": [],
   "source": [
    "Exception Hierarchy:\n",
    "    The Exception class is at the top of the exception hierarchy in Python. By inheriting from it, your custom\n",
    "    exception becomes a part of this hierarchy, making it easier to organize and categorize exceptions based on \n",
    "    their relationships and common behavior."
   ]
  },
  {
   "cell_type": "code",
   "execution_count": null,
   "id": "33f2639b-d8d6-432a-bd6e-704d9005591d",
   "metadata": {},
   "outputs": [],
   "source": [
    "Code Clarity and Readability:\n",
    "    Using the Exception class as the base class for custom exceptions helps to make your code more readable \n",
    "    and understandable for other developers. It clearly indicates that the class is intended to be an exception\n",
    "    and follows the established exception hierarchy."
   ]
  },
  {
   "cell_type": "code",
   "execution_count": null,
   "id": "37997930-d8e1-4316-b21b-e56eafc40a73",
   "metadata": {},
   "outputs": [],
   "source": [
    "Here's an example to illustrate the usage of the Exception class as the base class for a custom exception:"
   ]
  },
  {
   "cell_type": "code",
   "execution_count": null,
   "id": "015d06e9-b2a9-4a19-bd48-21e0fda0c0f2",
   "metadata": {},
   "outputs": [],
   "source": [
    "In this example, the CustomException class is defined as a subclass of the Exception class. By inheriting\n",
    "from Exception CustomException gains all the properties and behaviors of the base class, including the\n",
    "ability to be caught by a general except block handling Exception instances."
   ]
  },
  {
   "cell_type": "code",
   "execution_count": null,
   "id": "186f1045-0748-4cd8-bfd7-86250c249bfd",
   "metadata": {},
   "outputs": [],
   "source": [
    "By using the Exception class as the base class for custom exceptions, you ensure that your exceptions align\n",
    "with established Python exception handling practices and facilitate proper integration with the language's\n",
    "exception hierarchy and mechanisms."
   ]
  },
  {
   "cell_type": "code",
   "execution_count": 1,
   "id": "a72a2460-1bca-4357-b39f-1522b58dba59",
   "metadata": {},
   "outputs": [
    {
     "name": "stdout",
     "output_type": "stream",
     "text": [
      "bsdk positive value enter kar \n"
     ]
    }
   ],
   "source": [
    "class coustom(Exception):\n",
    "    pass\n",
    "\n",
    "\n",
    "def fun(value):\n",
    "    if value < 0:\n",
    "        raise coustom(\"bsdk positive value enter kar \")\n",
    "    else:\n",
    "        print(\"mc tera kam ho gaya chal bhag ja \")\n",
    "        \n",
    "        \n",
    "try:\n",
    "    fun(-4)\n",
    "except coustom as e:\n",
    "    print(e)"
   ]
  },
  {
   "cell_type": "code",
   "execution_count": null,
   "id": "6ad46b79-c733-4e85-9411-0b86dec77d0e",
   "metadata": {},
   "outputs": [],
   "source": []
  },
  {
   "cell_type": "markdown",
   "id": "0a5ffebb-077d-4ea7-b658-45da55ed5f05",
   "metadata": {},
   "source": [
    "ANSWER 2 "
   ]
  },
  {
   "cell_type": "code",
   "execution_count": null,
   "id": "e9b09fa0-cfb1-4b55-9e38-e75f854124e5",
   "metadata": {},
   "outputs": [],
   "source": [
    "import sys\n",
    "\n",
    "def print_exception_hierarchy():\n",
    "    exceptions = []\n",
    "    for name, obj in vars(sys.modules[__name__]).items():\n",
    "        if isinstance(obj, type) and issubclass(obj, BaseException):\n",
    "            exceptions.append(obj)\n",
    "\n",
    "    exceptions.sort(key=lambda x: x.__name__)\n",
    "\n",
    "    for exception in exceptions:\n",
    "        print(exception.__name__)\n",
    "        if exception.__base__ is not BaseException:\n",
    "            print_exception_tree(exception, exception.__base__, 1)\n",
    "\n",
    "def print_exception_tree(exception, base_exception, indent_level):\n",
    "    indent = \"    \" * indent_level\n",
    "    print(f\"{indent}{base_exception.__name__}\")\n",
    "    if base_exception.__base__ is not BaseException:\n",
    "        print_exception_tree(exception, base_exception.__base__, indent_level + 1)\n",
    "\n",
    "# Main program\n",
    "print(\"Python Exception Hierarchy:\")\n",
    "print(\"============================\")\n",
    "print_exception_hierarchy()"
   ]
  },
  {
   "cell_type": "markdown",
   "id": "7d3cbd1a-c789-439e-a85a-bd2801cd5fbd",
   "metadata": {},
   "source": [
    "ANSWER 3"
   ]
  },
  {
   "cell_type": "code",
   "execution_count": null,
   "id": "a511d376-2bc3-4a8c-bd08-85807f3b85c1",
   "metadata": {},
   "outputs": [],
   "source": [
    "The ArithmeticError class is a base class for arithmetic-related exceptions in Python. It serves as a superclass\n",
    "for a variety of specific arithmetic exceptions. Two commonly encountered exceptions that are subclasses of\n",
    "ArithmeticError are ZeroDivisionError and OverflowError. Let's explore each of them with examples:"
   ]
  },
  {
   "cell_type": "code",
   "execution_count": null,
   "id": "2a1d7a7b-51ef-492c-845d-e0b01b405599",
   "metadata": {},
   "outputs": [],
   "source": []
  },
  {
   "cell_type": "markdown",
   "id": "9a05291d-d41a-4e5c-9c87-e97ca5fa76c6",
   "metadata": {},
   "source": [
    "ANSWER 4"
   ]
  },
  {
   "cell_type": "code",
   "execution_count": null,
   "id": "896dc97a-b201-4857-93b3-409921f462dd",
   "metadata": {},
   "outputs": [],
   "source": []
  },
  {
   "cell_type": "code",
   "execution_count": null,
   "id": "79e1e546-b1d3-4ff4-bee4-be04dc2add4c",
   "metadata": {},
   "outputs": [],
   "source": []
  },
  {
   "cell_type": "code",
   "execution_count": null,
   "id": "d4042b85-6b2d-427c-8907-192b67e9a8d4",
   "metadata": {},
   "outputs": [],
   "source": []
  },
  {
   "cell_type": "code",
   "execution_count": null,
   "id": "281b800d-8a19-4f61-9338-493867835286",
   "metadata": {},
   "outputs": [],
   "source": []
  },
  {
   "cell_type": "markdown",
   "id": "a12fa204-2d0c-4009-8fce-8b9691b45af3",
   "metadata": {},
   "source": []
  },
  {
   "cell_type": "code",
   "execution_count": null,
   "id": "3355a2f4-b3fb-4ef0-8c83-9a838b096571",
   "metadata": {},
   "outputs": [],
   "source": []
  },
  {
   "cell_type": "code",
   "execution_count": null,
   "id": "1b57a1bf-99e0-48a0-9c03-09fd0132bb1b",
   "metadata": {},
   "outputs": [],
   "source": []
  },
  {
   "cell_type": "code",
   "execution_count": null,
   "id": "6efed3ea-4182-47bd-a849-c3774b9f8961",
   "metadata": {},
   "outputs": [],
   "source": []
  },
  {
   "cell_type": "code",
   "execution_count": null,
   "id": "17c286d9-346d-4227-8a55-235b3264191e",
   "metadata": {},
   "outputs": [],
   "source": []
  },
  {
   "cell_type": "code",
   "execution_count": null,
   "id": "47fad1c2-b15d-473a-95b4-bc03f9fb2b63",
   "metadata": {},
   "outputs": [],
   "source": []
  },
  {
   "cell_type": "code",
   "execution_count": null,
   "id": "d0516cdd-5c01-4206-ba00-8ac7acba7075",
   "metadata": {},
   "outputs": [],
   "source": []
  },
  {
   "cell_type": "code",
   "execution_count": null,
   "id": "f5e671af-37a4-400f-a04f-529dafbb3f0d",
   "metadata": {},
   "outputs": [],
   "source": []
  },
  {
   "cell_type": "code",
   "execution_count": null,
   "id": "a26d4ad5-34fb-4aa0-a20a-8c58da1938ba",
   "metadata": {},
   "outputs": [],
   "source": []
  },
  {
   "cell_type": "code",
   "execution_count": null,
   "id": "18faabd8-a54d-4005-a619-bc4cca02366e",
   "metadata": {},
   "outputs": [],
   "source": []
  },
  {
   "cell_type": "code",
   "execution_count": null,
   "id": "183d8c3c-5763-4f7a-85dc-c2e650e4c85d",
   "metadata": {},
   "outputs": [],
   "source": []
  }
 ],
 "metadata": {
  "kernelspec": {
   "display_name": "Python 3 (ipykernel)",
   "language": "python",
   "name": "python3"
  },
  "language_info": {
   "codemirror_mode": {
    "name": "ipython",
    "version": 3
   },
   "file_extension": ".py",
   "mimetype": "text/x-python",
   "name": "python",
   "nbconvert_exporter": "python",
   "pygments_lexer": "ipython3",
   "version": "3.10.8"
  }
 },
 "nbformat": 4,
 "nbformat_minor": 5
}
